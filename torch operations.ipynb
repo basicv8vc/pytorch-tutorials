{
 "cells": [
  {
   "cell_type": "code",
   "execution_count": 18,
   "metadata": {},
   "outputs": [
    {
     "name": "stdout",
     "output_type": "stream",
     "text": [
      "1.0.0\n"
     ]
    }
   ],
   "source": [
    "import torch\n",
    "import numpy as np\n",
    "\n",
    "print(torch.__version__)"
   ]
  },
  {
   "cell_type": "markdown",
   "metadata": {},
   "source": [
    "torch模块包含了Tensor以及大量对Tensor的操作(e.g. 检索、序列化、reshape等)"
   ]
  },
  {
   "cell_type": "markdown",
   "metadata": {},
   "source": [
    "### 创建Tensor"
   ]
  },
  {
   "cell_type": "code",
   "execution_count": 25,
   "metadata": {},
   "outputs": [
    {
     "data": {
      "text/plain": [
       "tensor([[1., 2., 3.],\n",
       "        [2., 5., 8.]])"
      ]
     },
     "execution_count": 25,
     "metadata": {},
     "output_type": "execute_result"
    }
   ],
   "source": [
    "# torch.tensor(data, )\n",
    "torch.tensor([[1.,2,3], [2,5,8]])"
   ]
  },
  {
   "cell_type": "code",
   "execution_count": 26,
   "metadata": {},
   "outputs": [
    {
     "data": {
      "text/plain": [
       "tensor([1., 2., 3.])"
      ]
     },
     "execution_count": 26,
     "metadata": {},
     "output_type": "execute_result"
    }
   ],
   "source": [
    "# create Tensor from numpy.ndarray\n",
    "a = np.array([1,2,3.], dtype=np.float32) # Do not forget to set dtype to np.float32\n",
    "torch.from_numpy(a)"
   ]
  },
  {
   "cell_type": "code",
   "execution_count": 29,
   "metadata": {},
   "outputs": [
    {
     "name": "stdout",
     "output_type": "stream",
     "text": [
      "0\n"
     ]
    },
    {
     "data": {
      "text/plain": [
       "torch.Size([])"
      ]
     },
     "execution_count": 29,
     "metadata": {},
     "output_type": "execute_result"
    }
   ],
   "source": [
    "# torch.tensor()可以接受scalar，此时创建的tensor.dim()=0\n",
    "a = torch.tensor(1)\n",
    "print(a.dim())\n",
    "a.size()"
   ]
  },
  {
   "cell_type": "markdown",
   "metadata": {},
   "source": [
    "#### 创建指定size()的Tensor\n",
    "\n",
    "各种创建方法的区别是如何初始化这个Tensor"
   ]
  },
  {
   "cell_type": "code",
   "execution_count": 30,
   "metadata": {},
   "outputs": [
    {
     "data": {
      "text/plain": [
       "tensor([[ 0.0000e+00, -4.6566e-10, -3.5064e+05,  3.6902e+19,  2.3058e+20],\n",
       "        [ 6.2689e+22,  4.7428e+30,  0.0000e+00,  0.0000e+00, -4.6566e-10],\n",
       "        [ 0.0000e+00, -4.6566e-10,  6.2957e+34,  6.8927e+34,  8.5771e-39]])"
      ]
     },
     "execution_count": 30,
     "metadata": {},
     "output_type": "execute_result"
    }
   ],
   "source": [
    "# 不初始化\n",
    "torch.empty(3, 5)"
   ]
  },
  {
   "cell_type": "code",
   "execution_count": 31,
   "metadata": {},
   "outputs": [
    {
     "data": {
      "text/plain": [
       "tensor([[0., 0., 0., 0., 0.],\n",
       "        [0., 0., 0., 0., 0.],\n",
       "        [0., 0., 0., 0., 0.]])"
      ]
     },
     "execution_count": 31,
     "metadata": {},
     "output_type": "execute_result"
    }
   ],
   "source": [
    "# 初始化为0\n",
    "torch.zeros(3, 5)"
   ]
  },
  {
   "cell_type": "code",
   "execution_count": 32,
   "metadata": {},
   "outputs": [
    {
     "data": {
      "text/plain": [
       "tensor([[1., 1., 1., 1., 1.],\n",
       "        [1., 1., 1., 1., 1.],\n",
       "        [1., 1., 1., 1., 1.]])"
      ]
     },
     "execution_count": 32,
     "metadata": {},
     "output_type": "execute_result"
    }
   ],
   "source": [
    "# 初始化为1\n",
    "torch.ones(3, 5)"
   ]
  },
  {
   "cell_type": "code",
   "execution_count": 33,
   "metadata": {},
   "outputs": [
    {
     "data": {
      "text/plain": [
       "tensor([[1.5000, 1.5000],\n",
       "        [1.5000, 1.5000],\n",
       "        [1.5000, 1.5000]])"
      ]
     },
     "execution_count": 33,
     "metadata": {},
     "output_type": "execute_result"
    }
   ],
   "source": [
    "# 初始化为某个指定值\n",
    "torch.full((3, 2), 1.5)"
   ]
  },
  {
   "cell_type": "markdown",
   "metadata": {},
   "source": [
    "###  创建和某个Tensor的size相同的Tensor\n",
    "\n",
    "各种方法的区别是如何初始化元素值"
   ]
  },
  {
   "cell_type": "code",
   "execution_count": 34,
   "metadata": {},
   "outputs": [
    {
     "data": {
      "text/plain": [
       "tensor([[0., 0., 0., 0., 0., 0.],\n",
       "        [0., 0., 0., 0., 0., 0.],\n",
       "        [0., 0., 0., 0., 0., 0.]])"
      ]
     },
     "execution_count": 34,
     "metadata": {},
     "output_type": "execute_result"
    }
   ],
   "source": [
    "torch.zeros_like(torch.ones(3,6))"
   ]
  },
  {
   "cell_type": "code",
   "execution_count": 35,
   "metadata": {},
   "outputs": [
    {
     "data": {
      "text/plain": [
       "tensor([[1., 1., 1., 1., 1., 1.],\n",
       "        [1., 1., 1., 1., 1., 1.],\n",
       "        [1., 1., 1., 1., 1., 1.]])"
      ]
     },
     "execution_count": 35,
     "metadata": {},
     "output_type": "execute_result"
    }
   ],
   "source": [
    "torch.ones_like(torch.zeros(3,6))"
   ]
  },
  {
   "cell_type": "code",
   "execution_count": 36,
   "metadata": {},
   "outputs": [
    {
     "data": {
      "text/plain": [
       "tensor([[2.2000, 2.2000, 2.2000, 2.2000, 2.2000],\n",
       "        [2.2000, 2.2000, 2.2000, 2.2000, 2.2000],\n",
       "        [2.2000, 2.2000, 2.2000, 2.2000, 2.2000]])"
      ]
     },
     "execution_count": 36,
     "metadata": {},
     "output_type": "execute_result"
    }
   ],
   "source": [
    "torch.full_like(torch.ones(3,5), 2.2)"
   ]
  },
  {
   "cell_type": "markdown",
   "metadata": {},
   "source": [
    "### 创建一些特殊的一维或二维Tensor"
   ]
  },
  {
   "cell_type": "code",
   "execution_count": 37,
   "metadata": {},
   "outputs": [
    {
     "data": {
      "text/plain": [
       "tensor([1.0000, 1.5000, 2.0000, 2.5000, 3.0000, 3.5000, 4.0000, 4.5000])"
      ]
     },
     "execution_count": 37,
     "metadata": {},
     "output_type": "execute_result"
    }
   ],
   "source": [
    "torch.arange(5)\n",
    "torch.arange(1, 5)\n",
    "torch.arange(1, 5, 0.5)"
   ]
  },
  {
   "cell_type": "code",
   "execution_count": 38,
   "metadata": {},
   "outputs": [
    {
     "data": {
      "text/plain": [
       "tensor([-5.0000, -4.6316, -4.2632, -3.8947, -3.5263, -3.1579, -2.7895, -2.4211,\n",
       "        -2.0526, -1.6842, -1.3158, -0.9474, -0.5789, -0.2105,  0.1579,  0.5263,\n",
       "         0.8947,  1.2632,  1.6316,  2.0000])"
      ]
     },
     "execution_count": 38,
     "metadata": {},
     "output_type": "execute_result"
    }
   ],
   "source": [
    "torch.linspace(-5, 2, steps=20)"
   ]
  },
  {
   "cell_type": "code",
   "execution_count": 39,
   "metadata": {},
   "outputs": [
    {
     "data": {
      "text/plain": [
       "tensor([[1., 0., 0., 0., 0.],\n",
       "        [0., 1., 0., 0., 0.],\n",
       "        [0., 0., 1., 0., 0.],\n",
       "        [0., 0., 0., 1., 0.],\n",
       "        [0., 0., 0., 0., 1.]])"
      ]
     },
     "execution_count": 39,
     "metadata": {},
     "output_type": "execute_result"
    }
   ],
   "source": [
    "# 创建单位矩阵\n",
    "torch.eye(5)"
   ]
  },
  {
   "cell_type": "markdown",
   "metadata": {},
   "source": [
    " "
   ]
  },
  {
   "cell_type": "markdown",
   "metadata": {},
   "source": [
    "## 数据聚合、切分操作\n",
    "\n",
    "* cat 👍👍👍👍👍\n",
    "* stack   👍👍👍\n",
    "* chunk   👍👍👍\n",
    "* split   👍👍👍👍"
   ]
  },
  {
   "cell_type": "markdown",
   "metadata": {},
   "source": [
    "**cat** 拼接. 将一组tensor拼接成一个tensor，除了指定维度，其他维度的size必须相同"
   ]
  },
  {
   "cell_type": "code",
   "execution_count": 47,
   "metadata": {},
   "outputs": [
    {
     "name": "stdout",
     "output_type": "stream",
     "text": [
      "tensor([[ 1.8999, -0.4945,  0.8681],\n",
      "        [ 0.0946, -0.0116, -1.3992],\n",
      "        [ 1.8999, -0.4945,  0.8681],\n",
      "        [ 0.0946, -0.0116, -1.3992],\n",
      "        [ 1.8999, -0.4945,  0.8681],\n",
      "        [ 0.0946, -0.0116, -1.3992]])\n"
     ]
    },
    {
     "data": {
      "text/plain": [
       "tensor([[ 1.8999, -0.4945,  0.8681,  1.8999, -0.4945,  0.8681,  1.8999, -0.4945,\n",
       "          0.8681],\n",
       "        [ 0.0946, -0.0116, -1.3992,  0.0946, -0.0116, -1.3992,  0.0946, -0.0116,\n",
       "         -1.3992]])"
      ]
     },
     "execution_count": 47,
     "metadata": {},
     "output_type": "execute_result"
    }
   ],
   "source": [
    "x = torch.randn(2, 3)\n",
    "print(torch.cat((x,x,x), 0))\n",
    "torch.cat((x,x,x), 1)"
   ]
  },
  {
   "cell_type": "code",
   "execution_count": 48,
   "metadata": {},
   "outputs": [
    {
     "name": "stdout",
     "output_type": "stream",
     "text": [
      "tensor([[ 0.8112, -0.1622, -0.3556],\n",
      "        [ 0.1400,  1.0407, -1.5378]])\n",
      "tensor([[-1.4780, -1.2352,  0.8683],\n",
      "        [-1.0848,  1.8059, -0.3266],\n",
      "        [-0.5018,  0.4598, -1.5580]])\n"
     ]
    },
    {
     "data": {
      "text/plain": [
       "tensor([[ 0.8112, -0.1622, -0.3556],\n",
       "        [ 0.1400,  1.0407, -1.5378],\n",
       "        [-1.4780, -1.2352,  0.8683],\n",
       "        [-1.0848,  1.8059, -0.3266],\n",
       "        [-0.5018,  0.4598, -1.5580]])"
      ]
     },
     "execution_count": 48,
     "metadata": {},
     "output_type": "execute_result"
    }
   ],
   "source": [
    "x1 = torch.randn(2, 3)\n",
    "x2 = torch.randn(3, 3)\n",
    "print(x1)\n",
    "print(x2)\n",
    "torch.cat((x1, x2), 0)"
   ]
  },
  {
   "cell_type": "markdown",
   "metadata": {},
   "source": [
    "**stack**: 对一组tensor进行concat，但要求每个tensor的size必须相同, torch.cat is better"
   ]
  },
  {
   "cell_type": "code",
   "execution_count": 49,
   "metadata": {},
   "outputs": [
    {
     "data": {
      "text/plain": [
       "tensor([[[-0.8104, -0.1352, -0.9820],\n",
       "         [-0.6749, -0.7109, -0.6862]],\n",
       "\n",
       "        [[ 0.3144,  0.0240, -0.9036],\n",
       "         [-1.5012,  0.0268, -0.2666]]])"
      ]
     },
     "execution_count": 49,
     "metadata": {},
     "output_type": "execute_result"
    }
   ],
   "source": [
    "x = torch.randn(2, 3)\n",
    "y = torch.randn(2, 3)\n",
    "torch.stack((x, y), 0)"
   ]
  },
  {
   "cell_type": "markdown",
   "metadata": {},
   "source": [
    "**chunk**: 将一个tensor切分为多个tensor，需要指定tensor个数，返回tuple类型"
   ]
  },
  {
   "cell_type": "code",
   "execution_count": 51,
   "metadata": {},
   "outputs": [
    {
     "data": {
      "text/plain": [
       "tensor([[-0.0717,  0.4842,  2.0958,  0.0026, -0.9535],\n",
       "        [-0.1018,  0.4900, -0.2004,  0.7950,  1.5493]])"
      ]
     },
     "execution_count": 51,
     "metadata": {},
     "output_type": "execute_result"
    }
   ],
   "source": [
    "x = torch.randn(2, 5)\n",
    "x"
   ]
  },
  {
   "cell_type": "code",
   "execution_count": 52,
   "metadata": {},
   "outputs": [
    {
     "name": "stdout",
     "output_type": "stream",
     "text": [
      "tensor([[-0.0717,  0.4842,  2.0958,  0.0026, -0.9535]])\n",
      "tensor([[-0.1018,  0.4900, -0.2004,  0.7950,  1.5493]])\n"
     ]
    }
   ],
   "source": [
    "print(torch.chunk(x, 2, 0)[0])\n",
    "print(torch.chunk(x, 2, 0)[1])\n"
   ]
  },
  {
   "cell_type": "code",
   "execution_count": 53,
   "metadata": {},
   "outputs": [
    {
     "name": "stdout",
     "output_type": "stream",
     "text": [
      "tensor([[-0.0717],\n",
      "        [-0.1018]])\n",
      "tensor([[0.4842],\n",
      "        [0.4900]])\n"
     ]
    }
   ],
   "source": [
    "print(torch.chunk(x, 5, 1)[0])\n",
    "print(torch.chunk(x, 5, 1)[1])"
   ]
  },
  {
   "cell_type": "markdown",
   "metadata": {},
   "source": [
    "**split**: 将一个tensor切分为多个tensor\n",
    "\n",
    "torch.split(tensor, split_size_or_sections, dim=0)\n",
    "\n",
    "**split_size_or_sections 指定每块的大小, 而torch.chunk()是指定切分多少块**\n",
    "\n",
    "如果split_size_or_sections是整数，此时split()功能退化为chunk()\n",
    "\n",
    "如果split_size_or_sections是list,则把tensor切分成len(split_size_or_sections)个tensor，\n",
    "\n",
    "每一个的tensor在dim的size是 split_size_or_sections的值\n"
   ]
  },
  {
   "cell_type": "code",
   "execution_count": 54,
   "metadata": {},
   "outputs": [
    {
     "data": {
      "text/plain": [
       "tensor([[-1.7579,  1.7611, -1.7600],\n",
       "        [ 1.7105,  0.7433, -0.2414],\n",
       "        [-1.3782, -2.0336,  0.2646]])"
      ]
     },
     "execution_count": 54,
     "metadata": {},
     "output_type": "execute_result"
    }
   ],
   "source": [
    "x = torch.randn(3, 3)\n",
    "x"
   ]
  },
  {
   "cell_type": "code",
   "execution_count": 55,
   "metadata": {},
   "outputs": [
    {
     "data": {
      "text/plain": [
       "(tensor([[-1.7579,  1.7611, -1.7600]]),\n",
       " tensor([[ 1.7105,  0.7433, -0.2414]]),\n",
       " tensor([[-1.3782, -2.0336,  0.2646]]))"
      ]
     },
     "execution_count": 55,
     "metadata": {},
     "output_type": "execute_result"
    }
   ],
   "source": [
    "torch.chunk(x, 3, 0) # 切分为3个"
   ]
  },
  {
   "cell_type": "code",
   "execution_count": 56,
   "metadata": {},
   "outputs": [
    {
     "data": {
      "text/plain": [
       "(tensor([[-1.7579,  1.7611, -1.7600]]),\n",
       " tensor([[ 1.7105,  0.7433, -0.2414]]),\n",
       " tensor([[-1.3782, -2.0336,  0.2646]]))"
      ]
     },
     "execution_count": 56,
     "metadata": {},
     "output_type": "execute_result"
    }
   ],
   "source": [
    "torch.split(x, 1, 0) # 每个在dim_0的size=1，意思也是切分为3个"
   ]
  },
  {
   "cell_type": "code",
   "execution_count": 57,
   "metadata": {},
   "outputs": [
    {
     "data": {
      "text/plain": [
       "(tensor([[-1.7579,  1.7611, -1.7600]]), tensor([[ 1.7105,  0.7433, -0.2414],\n",
       "         [-1.3782, -2.0336,  0.2646]]))"
      ]
     },
     "execution_count": 57,
     "metadata": {},
     "output_type": "execute_result"
    }
   ],
   "source": [
    "torch.split(x, [1, 2], 0)"
   ]
  },
  {
   "cell_type": "markdown",
   "metadata": {},
   "source": [
    "### 检索/切片 👍👍👍👍👍\n",
    "\n"
   ]
  },
  {
   "cell_type": "markdown",
   "metadata": {},
   "source": [
    "* torch.gather\n",
    "* torch.index_select\n",
    "* torch.masked_select\n",
    "* torch.narrow\n",
    "* torch.nonzero\n"
   ]
  },
  {
   "cell_type": "markdown",
   "metadata": {},
   "source": [
    "**gather**: 在指定维度，把index作为下标检索数据\n",
    "```\n",
    "torch.gather(input, dim, index)\n",
    "```\n",
    "\n",
    "以3-D tensor为例:\n",
    "\n",
    "```\n",
    "out[i][j][k] = input[index[i][j][k]][j][k]   # if dim=0\n",
    "\n",
    "out[i][j][k] = input[i][index[i][j][k]][k]   # if dim=1\n",
    "\n",
    "out[i][j][k] = input[i][j][index[i][j][k]]   # if dim=2\n",
    "```\n",
    "\n",
    "**tensor和index的维度相同**\n",
    "\n",
    "如果tensor的size($x_{0}, x_{1},...,x_{i-1},x_{i},x_{i+1},...,x_{n-1}$)，dim=i，那么index的size必须是($x_{0}, x_{1},...,x_{i-1},y,x_{i+1},...,x_{n-1}$), y>=1\n",
    "\n",
    "**返回的tensor和index的size完全相同**"
   ]
  },
  {
   "cell_type": "code",
   "execution_count": 58,
   "metadata": {},
   "outputs": [
    {
     "name": "stdout",
     "output_type": "stream",
     "text": [
      "tensor([[[ 0.2771, -0.3214,  0.1635,  0.2951, -0.6361],\n",
      "         [-0.5465, -0.4658, -1.2455,  0.0858,  1.9950],\n",
      "         [ 0.9819,  0.1533, -0.7084,  0.8812,  1.0277]],\n",
      "\n",
      "        [[ 0.6067,  0.0650,  0.4928,  1.5286, -0.5206],\n",
      "         [-2.2998, -0.4075,  1.1956, -0.7620, -0.3332],\n",
      "         [ 0.4792,  1.0548, -0.0824, -0.5201, -1.6686]]])\n"
     ]
    },
    {
     "data": {
      "text/plain": [
       "tensor([[[3, 0],\n",
       "         [4, 3],\n",
       "         [4, 0]],\n",
       "\n",
       "        [[3, 0],\n",
       "         [2, 4],\n",
       "         [1, 0]]])"
      ]
     },
     "execution_count": 58,
     "metadata": {},
     "output_type": "execute_result"
    }
   ],
   "source": [
    "x = torch.randn(2, 3, 5)\n",
    "print(x)\n",
    "\n",
    "index = torch.topk(x, 2, 2)[1]\n",
    "index # (2, 3, 2)"
   ]
  },
  {
   "cell_type": "code",
   "execution_count": 59,
   "metadata": {},
   "outputs": [
    {
     "data": {
      "text/plain": [
       "tensor([[[ 0.2951,  0.2771],\n",
       "         [ 1.9950,  0.0858],\n",
       "         [ 1.0277,  0.9819]],\n",
       "\n",
       "        [[ 1.5286,  0.6067],\n",
       "         [ 1.1956, -0.3332],\n",
       "         [ 1.0548,  0.4792]]])"
      ]
     },
     "execution_count": 59,
     "metadata": {},
     "output_type": "execute_result"
    }
   ],
   "source": [
    "torch.gather(x, 2, index)"
   ]
  },
  {
   "cell_type": "code",
   "execution_count": 60,
   "metadata": {},
   "outputs": [
    {
     "data": {
      "text/plain": [
       "tensor([ 0,  1,  2,  3,  4,  5,  6,  7,  8,  9, 10, 11])"
      ]
     },
     "execution_count": 60,
     "metadata": {},
     "output_type": "execute_result"
    }
   ],
   "source": [
    "data"
   ]
  },
  {
   "cell_type": "code",
   "execution_count": 61,
   "metadata": {},
   "outputs": [
    {
     "data": {
      "text/plain": [
       "tensor([[[3, 0],\n",
       "         [4, 3],\n",
       "         [4, 0]],\n",
       "\n",
       "        [[3, 0],\n",
       "         [2, 4],\n",
       "         [1, 0]]])"
      ]
     },
     "execution_count": 61,
     "metadata": {},
     "output_type": "execute_result"
    }
   ],
   "source": [
    "index"
   ]
  },
  {
   "cell_type": "code",
   "execution_count": 62,
   "metadata": {},
   "outputs": [
    {
     "data": {
      "text/plain": [
       "tensor([[[ 0,  1,  2,  3],\n",
       "         [ 4,  5,  6,  7],\n",
       "         [ 8,  9, 10, 11]],\n",
       "\n",
       "        [[12, 13, 14, 15],\n",
       "         [16, 17, 18, 19],\n",
       "         [20, 21, 22, 23]]])"
      ]
     },
     "execution_count": 62,
     "metadata": {},
     "output_type": "execute_result"
    }
   ],
   "source": [
    "x = torch.arange(24).view(2, 3, 4)\n",
    "x"
   ]
  },
  {
   "cell_type": "code",
   "execution_count": 63,
   "metadata": {},
   "outputs": [
    {
     "data": {
      "text/plain": [
       "tensor([[[1, 1, 1, 1],\n",
       "         [1, 1, 1, 1]],\n",
       "\n",
       "        [[1, 1, 1, 1],\n",
       "         [1, 1, 1, 1]]])"
      ]
     },
     "execution_count": 63,
     "metadata": {},
     "output_type": "execute_result"
    }
   ],
   "source": [
    "index = torch.ones(2,2,4, dtype=torch.long)\n",
    "index"
   ]
  },
  {
   "cell_type": "code",
   "execution_count": 64,
   "metadata": {},
   "outputs": [
    {
     "data": {
      "text/plain": [
       "tensor([[[ 4,  5,  6,  7],\n",
       "         [ 4,  5,  6,  7]],\n",
       "\n",
       "        [[16, 17, 18, 19],\n",
       "         [16, 17, 18, 19]]])"
      ]
     },
     "execution_count": 64,
     "metadata": {},
     "output_type": "execute_result"
    }
   ],
   "source": [
    "torch.gather(x, 1, index)"
   ]
  },
  {
   "cell_type": "code",
   "execution_count": null,
   "metadata": {},
   "outputs": [],
   "source": []
  },
  {
   "cell_type": "code",
   "execution_count": null,
   "metadata": {},
   "outputs": [],
   "source": []
  },
  {
   "cell_type": "code",
   "execution_count": null,
   "metadata": {},
   "outputs": [],
   "source": []
  },
  {
   "cell_type": "code",
   "execution_count": null,
   "metadata": {},
   "outputs": [],
   "source": []
  },
  {
   "cell_type": "code",
   "execution_count": null,
   "metadata": {},
   "outputs": [],
   "source": []
  }
 ],
 "metadata": {
  "kernelspec": {
   "display_name": "Python 3",
   "language": "python",
   "name": "python3"
  },
  "language_info": {
   "codemirror_mode": {
    "name": "ipython",
    "version": 3
   },
   "file_extension": ".py",
   "mimetype": "text/x-python",
   "name": "python",
   "nbconvert_exporter": "python",
   "pygments_lexer": "ipython3",
   "version": "3.7.1"
  }
 },
 "nbformat": 4,
 "nbformat_minor": 2
}
